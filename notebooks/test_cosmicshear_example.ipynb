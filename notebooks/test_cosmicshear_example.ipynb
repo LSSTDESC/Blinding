{
 "cells": [
  {
   "cell_type": "markdown",
   "metadata": {},
   "source": [
    "# Example Likelihood Test\n",
    "\n",
    "This notebook tests the implementation of a standard minimal firecrown likelihood which can be used with the blinding library."
   ]
  },
  {
   "cell_type": "code",
   "execution_count": 3,
   "metadata": {},
   "outputs": [],
   "source": [
    "%matplotlib inline\n",
    "import pylab as plt\n",
    "from firecrown.likelihood.likelihood import load_likelihood\n",
    "from firecrown.likelihood.likelihood import load_likelihood_from_module_type\n",
    "from firecrown.parameters import ParamsMap\n",
    "import numpy as np\n",
    "import sacc\n",
    "import pathlib\n",
    "import pyccl as ccl\n",
    "from firecrown.modeling_tools import ModelingTools\n",
    "import firecrown\n",
    "import sys\n",
    "import os\n",
    "from copy import deepcopy\n",
    "\n",
    "from blinding import Smokescreen"
   ]
  },
  {
   "cell_type": "code",
   "execution_count": 2,
   "metadata": {},
   "outputs": [],
   "source": [
    "sys.path.append(\"../examples/cosmic_shear/\")\n",
    "import cosmicshear_likelihood"
   ]
  },
  {
   "cell_type": "markdown",
   "metadata": {},
   "source": [
    "First let's try to pass the sacc as a string"
   ]
  },
  {
   "cell_type": "code",
   "execution_count": 4,
   "metadata": {},
   "outputs": [
    {
     "name": "stderr",
     "output_type": "stream",
     "text": [
      "/opt/homebrew/Caskroom/miniforge/base/envs/desc_blinding/lib/python3.11/site-packages/sacc/sacc.py:974: UserWarning: No bandpower windows associated to these data\n",
      "  warnings.warn(\"No bandpower windows associated to these data\")\n"
     ]
    }
   ],
   "source": [
    "sacc_file = \"../examples/cosmic_shear/cosmicshear_sacc.fits\"\n",
    "build_parameters = {\n",
    "    \"sacc_data\": sacc_file,\n",
    "}\n",
    "likelihood, tools = load_likelihood_from_module_type(cosmicshear_likelihood, build_parameters)"
   ]
  },
  {
   "cell_type": "code",
   "execution_count": 5,
   "metadata": {},
   "outputs": [
    {
     "data": {
      "text/plain": [
       "array([8.68664926e-09, 4.83660661e-09, 2.14902577e-09, 8.38689728e-10,\n",
       "       3.29653471e-10, 1.35937954e-10, 4.99982193e-11, 1.39742692e-11,\n",
       "       3.07364829e-12, 6.00642443e-13, 1.45234282e-08, 9.00288602e-09,\n",
       "       4.26223992e-09, 1.63728386e-09, 6.32897033e-10, 2.63589025e-10,\n",
       "       1.00965763e-10, 3.14823356e-11, 7.41193727e-12, 1.46985175e-12,\n",
       "       2.94891553e-08, 2.09520287e-08, 1.09428163e-08, 4.47545278e-09,\n",
       "       1.67488389e-09, 6.67403009e-10, 2.66481401e-10, 9.29506616e-11,\n",
       "       2.43582380e-11, 5.16257092e-12])"
      ]
     },
     "execution_count": 5,
     "metadata": {},
     "output_type": "execute_result"
    }
   ],
   "source": [
    "likelihood.get_data_vector()"
   ]
  },
  {
   "cell_type": "markdown",
   "metadata": {},
   "source": [
    "Now let's try to pass the loaded sacc object"
   ]
  },
  {
   "cell_type": "code",
   "execution_count": 6,
   "metadata": {},
   "outputs": [
    {
     "name": "stderr",
     "output_type": "stream",
     "text": [
      "/opt/homebrew/Caskroom/miniforge/base/envs/desc_blinding/lib/python3.11/site-packages/sacc/sacc.py:974: UserWarning: No bandpower windows associated to these data\n",
      "  warnings.warn(\"No bandpower windows associated to these data\")\n"
     ]
    }
   ],
   "source": [
    "sacc_file = \"../examples/cosmic_shear/cosmicshear_sacc.fits\"\n",
    "sacc_data = sacc.Sacc.load_fits(sacc_file)\n",
    "build_parameters = {\n",
    "    \"sacc_data\": sacc_data,\n",
    "}\n",
    "likelihood, tools = load_likelihood_from_module_type(cosmicshear_likelihood, build_parameters)"
   ]
  },
  {
   "cell_type": "code",
   "execution_count": 7,
   "metadata": {},
   "outputs": [
    {
     "data": {
      "text/plain": [
       "array([8.68664926e-09, 4.83660661e-09, 2.14902577e-09, 8.38689728e-10,\n",
       "       3.29653471e-10, 1.35937954e-10, 4.99982193e-11, 1.39742692e-11,\n",
       "       3.07364829e-12, 6.00642443e-13, 1.45234282e-08, 9.00288602e-09,\n",
       "       4.26223992e-09, 1.63728386e-09, 6.32897033e-10, 2.63589025e-10,\n",
       "       1.00965763e-10, 3.14823356e-11, 7.41193727e-12, 1.46985175e-12,\n",
       "       2.94891553e-08, 2.09520287e-08, 1.09428163e-08, 4.47545278e-09,\n",
       "       1.67488389e-09, 6.67403009e-10, 2.66481401e-10, 9.29506616e-11,\n",
       "       2.43582380e-11, 5.16257092e-12])"
      ]
     },
     "execution_count": 7,
     "metadata": {},
     "output_type": "execute_result"
    }
   ],
   "source": [
    "likelihood.get_data_vector()"
   ]
  },
  {
   "cell_type": "code",
   "execution_count": null,
   "metadata": {},
   "outputs": [],
   "source": []
  }
 ],
 "metadata": {
  "kernelspec": {
   "display_name": "desc_blinding",
   "language": "python",
   "name": "python3"
  },
  "language_info": {
   "codemirror_mode": {
    "name": "ipython",
    "version": 3
   },
   "file_extension": ".py",
   "mimetype": "text/x-python",
   "name": "python",
   "nbconvert_exporter": "python",
   "pygments_lexer": "ipython3",
   "version": "3.11.6"
  }
 },
 "nbformat": 4,
 "nbformat_minor": 2
}
