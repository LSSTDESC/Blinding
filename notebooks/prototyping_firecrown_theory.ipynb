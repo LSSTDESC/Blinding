{
 "cells": [
  {
   "cell_type": "markdown",
   "metadata": {},
   "source": [
    "# Smokescreen Prototype\n",
    "\n",
    "This is an exploratory prototying notebook for the Smokescreen project.\n",
    "Loading firecrown likelighoods, smokescreen will try to find to conceal the data-vectors to avoid confirmation bias in the cosmological parameters."
   ]
  },
  {
   "cell_type": "code",
   "execution_count": 1,
   "metadata": {},
   "outputs": [],
   "source": [
    "%matplotlib inline\n",
    "import pylab as plt\n",
    "from firecrown.likelihood.likelihood import load_likelihood\n",
    "from firecrown.likelihood.likelihood import load_likelihood_from_module_type\n",
    "from firecrown.parameters import ParamsMap\n",
    "import numpy as np\n",
    "import sacc\n",
    "import pathlib\n",
    "import pyccl as ccl\n",
    "from firecrown.modeling_tools import ModelingTools\n",
    "import firecrown\n",
    "import sys\n",
    "import os\n",
    "from copy import deepcopy\n",
    "# we need to import a firecrown example likelihood:\n",
    "# exports the path to the environment variable FIRECROWN_DIR\n",
    "os.environ[\"FIRECROWN_DIR\"] = os.path.dirname('/Users/loureiro/Work/Github/firecrown/')\n"
   ]
  },
  {
   "cell_type": "code",
   "execution_count": 2,
   "metadata": {},
   "outputs": [],
   "source": [
    "# importing the example likelihood module from the firecrown examples\n",
    "sys.path.append(os.path.join(os.environ[\"FIRECROWN_DIR\"], \"examples\", \"des_y1_3x2pt\"))\n",
    "# trying to import the example likelihood\n",
    "import des_y1_3x2pt_PT "
   ]
  },
  {
   "cell_type": "code",
   "execution_count": 3,
   "metadata": {},
   "outputs": [
    {
     "name": "stdout",
     "output_type": "stream",
     "text": [
      "True\n"
     ]
    }
   ],
   "source": [
    "print(hasattr(des_y1_3x2pt_PT, \"build_likelihood\"))"
   ]
  },
  {
   "cell_type": "markdown",
   "metadata": {},
   "source": [
    "## Generating a theory-vector"
   ]
  },
  {
   "cell_type": "code",
   "execution_count": 4,
   "metadata": {},
   "outputs": [],
   "source": [
    "# ccl cosmology\n",
    "cosmo = ccl.Cosmology(Omega_c=0.27, \n",
    "                      Omega_b=0.045, \n",
    "                      h=0.67, \n",
    "                      sigma8=0.8, \n",
    "                      n_s=0.96, \n",
    "                      transfer_function='bbks')\n",
    "cosmo_bl = ccl.Cosmology(Omega_c=0.27, \n",
    "                        Omega_b=0.045, \n",
    "                        h=0.72, \n",
    "                        sigma8=0.76, \n",
    "                        n_s=0.96, \n",
    "                        transfer_function='bbks')\n",
    "cosmo.compute_nonlin_power()\n",
    "cosmo_bl.compute_nonlin_power()"
   ]
  },
  {
   "cell_type": "code",
   "execution_count": 5,
   "metadata": {},
   "outputs": [
    {
     "name": "stdout",
     "output_type": "stream",
     "text": [
      "Using parameters: ['lens0_b_s', 'ia_a_d', 'lens0_mag_bias', 'ia_a_2', 'src0_delta_z', 'ia_a_1', 'lens0_delta_z', 'lens0_b_2', 'lens0_bias']\n"
     ]
    },
    {
     "name": "stderr",
     "output_type": "stream",
     "text": [
      "/opt/homebrew/Caskroom/miniforge/base/envs/desc_blinding/lib/python3.11/site-packages/sacc/sacc.py:974: UserWarning: No bandpower windows associated to these data\n",
      "  warnings.warn(\"No bandpower windows associated to these data\")\n"
     ]
    }
   ],
   "source": [
    "# preparting the likelihood\n",
    "likelihood, tools = load_likelihood_from_module_type(des_y1_3x2pt_PT, None)"
   ]
  },
  {
   "cell_type": "code",
   "execution_count": 6,
   "metadata": {},
   "outputs": [
    {
     "name": "stdout",
     "output_type": "stream",
     "text": [
      "des_y1_3x2pt_PT is a module\n"
     ]
    }
   ],
   "source": [
    "import types\n",
    "\n",
    "if isinstance(des_y1_3x2pt_PT, types.ModuleType):\n",
    "    print(\"des_y1_3x2pt_PT is a module\")\n",
    "else:\n",
    "    print(\"des_y1_3x2pt_PT is not a module\")\n"
   ]
  },
  {
   "cell_type": "code",
   "execution_count": 7,
   "metadata": {},
   "outputs": [
    {
     "data": {
      "text/plain": [
       "True"
      ]
     },
     "execution_count": 7,
     "metadata": {},
     "output_type": "execute_result"
    }
   ],
   "source": [
    "hasattr(likelihood, \"compute_theory_vector\")"
   ]
  },
  {
   "cell_type": "markdown",
   "metadata": {},
   "source": [
    "This comes from the example file, but we would expect the user to provide a dictionary of fiductial parameters for the systeamatics"
   ]
  },
  {
   "cell_type": "code",
   "execution_count": 8,
   "metadata": {},
   "outputs": [],
   "source": [
    "cs = des_y1_3x2pt_PT.CclSetup()\n",
    "systematics_params = ParamsMap(\n",
    "        {\n",
    "            \"ia_a_1\": cs.a_1,\n",
    "            \"ia_a_2\": cs.a_2,\n",
    "            \"ia_a_d\": cs.a_d,\n",
    "            \"lens0_bias\": cs.b_1,\n",
    "            \"lens0_b_2\": cs.b_2,\n",
    "            \"lens0_b_s\": cs.b_s,\n",
    "            \"lens0_mag_bias\": cs.mag_bias,\n",
    "            \"src0_delta_z\": 0.000,\n",
    "            \"lens0_delta_z\": 0.000,\n",
    "        }\n",
    "    )"
   ]
  },
  {
   "cell_type": "code",
   "execution_count": 9,
   "metadata": {},
   "outputs": [],
   "source": [
    "tools_blinding = deepcopy(tools)\n",
    "\n",
    "# FIXME: is this correct or can we skip this step?\n",
    "tools.update({})\n",
    "tools_blinding.update({})\n",
    "\n",
    "# prepare the tools with the cosmology\n",
    "tools.prepare(cosmo)\n",
    "tools_blinding.prepare(cosmo_bl)\n",
    "\n",
    "likelihood.update(ParamsMap(systematics_params))"
   ]
  },
  {
   "cell_type": "code",
   "execution_count": 10,
   "metadata": {},
   "outputs": [
    {
     "data": {
      "text/plain": [
       "<pyccl.cosmology.Cosmology>\n",
       "\tNeff    = 3.044\n",
       "\tOmega_b = 0.045\n",
       "\tOmega_c = 0.27\n",
       "\th       = 0.72\n",
       "\tn_s     = 0.96\n",
       "\tsigma8  = 0.76\n",
       "\ttransfer_function = bbks\n",
       "\textra_parameters =\n",
       "\tHASH_ACCURACY_PARAMS = 0x7707664dc6bae115"
      ]
     },
     "execution_count": 10,
     "metadata": {},
     "output_type": "execute_result"
    }
   ],
   "source": [
    "tools_blinding.get_ccl_cosmology()"
   ]
  },
  {
   "cell_type": "code",
   "execution_count": 11,
   "metadata": {},
   "outputs": [
    {
     "name": "stderr",
     "output_type": "stream",
     "text": [
      "/opt/homebrew/Caskroom/miniforge/base/envs/desc_blinding/lib/python3.11/site-packages/pyccl/nl_pt/ept.py:375: CCLWarning: EulerianPTCalculators assume linear galaxy bias when computing galaxy-IA cross-correlations.\n",
      "  warnings.warn(\n"
     ]
    }
   ],
   "source": [
    "theory_vec_fid = likelihood.compute_theory_vector(tools)\n",
    "theory_vec_shifted = likelihood.compute_theory_vector(tools_blinding)\n",
    "data_vect_original = likelihood.get_data_vector()"
   ]
  },
  {
   "cell_type": "code",
   "execution_count": 12,
   "metadata": {},
   "outputs": [
    {
     "data": {
      "image/png": "[encoded data removed]",
      "text/plain": [
       "<Figure size 640x480 with 1 Axes>"
      ]
     },
     "metadata": {},
     "output_type": "display_data"
    }
   ],
   "source": [
    "plt.figure()\n",
    "plt.loglog(theory_vec_fid, label='theory vector')\n",
    "plt.loglog(theory_vec_shifted, label='shifted theory vector')\n",
    "plt.loglog(data_vect_original, label='data vector')\n",
    "plt.legend(loc=1)\n",
    "plt.show()"
   ]
  },
  {
   "cell_type": "code",
   "execution_count": 13,
   "metadata": {},
   "outputs": [
    {
     "data": {
      "text/plain": [
       "['lens0_b_s',\n",
       " 'ia_a_d',\n",
       " 'lens0_mag_bias',\n",
       " 'ia_a_2',\n",
       " 'src0_delta_z',\n",
       " 'ia_a_1',\n",
       " 'lens0_delta_z',\n",
       " 'lens0_b_2',\n",
       " 'lens0_bias']"
      ]
     },
     "execution_count": 13,
     "metadata": {},
     "output_type": "execute_result"
    }
   ],
   "source": [
    "list(likelihood.required_parameters().get_params_names())\n"
   ]
  },
  {
   "cell_type": "code",
   "execution_count": 14,
   "metadata": {},
   "outputs": [
    {
     "data": {
      "text/plain": [
       "{'A_s': nan, 'H0': 67.0, 'N_nu_mass': 0, 'N_nu_rel': 3.044, 'Neff': 3.044, 'Omega_b': 0.045, 'Omega_c': 0.27, 'Omega_g': 5.508778298729024e-05, 'Omega_k': 0.0, 'Omega_l': 0.6849068292242229, 'Omega_m': 0.315, 'Omega_nu_mass': 0.0, 'Omega_nu_rel': 3.808299279000258e-05, 'T_CMB': 2.7255, 'T_ncdm': 0.71611, 'bcm_etab': 0.0, 'bcm_ks': 0.0, 'bcm_log10Mc': 0.0, 'c1_mg': 1.0, 'c2_mg': 1.0, 'df_mgrowth': None, 'h': 0.67, 'has_mgrowth': False, 'k_sign': 0, 'lambda_mg': 0.0, 'm_nu': [], 'mu_0': 0.0, 'n_s': 0.96, 'nz_mgrowth': 0, 'sigma8': 0.8, 'sigma_0': 0.0, 'sqrtk': 0.0, 'sum_nu_masses': 0.0, 'w0': -1.0, 'wa': 0.0, 'z_mgrowth': None, 'z_star': 0.0}"
      ]
     },
     "execution_count": 14,
     "metadata": {},
     "output_type": "execute_result"
    }
   ],
   "source": [
    "cosmo._params"
   ]
  },
  {
   "cell_type": "markdown",
   "metadata": {},
   "source": [
    "## Cosmological Shifts"
   ]
  },
  {
   "cell_type": "code",
   "execution_count": 54,
   "metadata": {},
   "outputs": [],
   "source": [
    "shifts_dict_test = {'H0': (-5, +5), \n",
    "                    'Naotem': (0.5, 1.5),\n",
    "                     'Omega_b': 0.001}"
   ]
  },
  {
   "cell_type": "code",
   "execution_count": 55,
   "metadata": {},
   "outputs": [],
   "source": [
    "# check if the shifts keys are in the cosmology parameters:\n",
    "\n",
    "def load_shifts(shifts_dict):\n",
    "    \"\"\"\n",
    "    if shifts is true, assumes the tuples values are (upper, lower) and the \n",
    "    \"\"\"\n",
    "    failed_keys = []\n",
    "    for key in shifts_dict.keys():\n",
    "        try:\n",
    "            cosmo._params[key]\n",
    "        except AttributeError:\n",
    "            # remove the key from the shifts_dict\n",
    "            print(f\"Key {key} not in cosmology parameters\")\n",
    "            failed_keys.append(key)\n",
    "    for key in failed_keys:\n",
    "        shifts_dict.pop(key)\n",
    "    shifts = {}\n",
    "    for key, value in shifts_dict.items():\n",
    "        if isinstance(value, tuple):\n",
    "            # check if the tuple is of length 2\n",
    "            if len(value) == 2:\n",
    "                if value[0] < 0:\n",
    "                    shifts[key] = cosmo[key] + np.random.uniform(value[0], value[1])\n",
    "                else:\n",
    "                    shifts[key] = np.random.uniform(value[0], value[1])\n",
    "            else:\n",
    "                raise ValueError(f\"Tuple {value} has to be of length 2\")\n",
    "        else:\n",
    "            shifts[key] = cosmo[key] + value\n",
    "    return shifts"
   ]
  },
  {
   "cell_type": "code",
   "execution_count": 56,
   "metadata": {},
   "outputs": [
    {
     "name": "stdout",
     "output_type": "stream",
     "text": [
      "Key Naotem not in cosmology parameters\n"
     ]
    },
    {
     "data": {
      "text/plain": [
       "{'H0': 71.51039869168316}"
      ]
     },
     "execution_count": 56,
     "metadata": {},
     "output_type": "execute_result"
    }
   ],
   "source": [
    "load_shifts(shifts_dict_test)"
   ]
  },
  {
   "cell_type": "code",
   "execution_count": null,
   "metadata": {},
   "outputs": [],
   "source": []
  }
 ],
 "metadata": {
  "kernelspec": {
   "display_name": "desc_blinding",
   "language": "python",
   "name": "python3"
  },
  "language_info": {
   "codemirror_mode": {
    "name": "ipython",
    "version": 3
   },
   "file_extension": ".py",
   "mimetype": "text/x-python",
   "name": "python",
   "nbconvert_exporter": "python",
   "pygments_lexer": "ipython3",
   "version": "3.11.6"
  }
 },
 "nbformat": 4,
 "nbformat_minor": 2
}
