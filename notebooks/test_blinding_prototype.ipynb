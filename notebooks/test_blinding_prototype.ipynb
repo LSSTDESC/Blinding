{
 "cells": [
  {
   "cell_type": "code",
   "execution_count": 37,
   "metadata": {},
   "outputs": [
    {
     "name": "stdout",
     "output_type": "stream",
     "text": [
      "The autoreload extension is already loaded. To reload it, use:\n",
      "  %reload_ext autoreload\n"
     ]
    }
   ],
   "source": [
    "%matplotlib inline\n",
    "%load_ext autoreload\n",
    "%autoreload 2\n",
    "import pylab as plt\n",
    "from firecrown.likelihood.likelihood import load_likelihood\n",
    "from firecrown.likelihood.likelihood import load_likelihood_from_module_type\n",
    "from firecrown.parameters import ParamsMap\n",
    "import numpy as np\n",
    "import sacc\n",
    "import pathlib\n",
    "import pyccl as ccl\n",
    "from firecrown.modeling_tools import ModelingTools\n",
    "import firecrown\n",
    "import sys\n",
    "import os\n",
    "from copy import deepcopy\n",
    "# we need to import a firecrown example likelihood:\n",
    "# exports the path to the environment variable FIRECROWN_DIR\n",
    "os.environ[\"FIRECROWN_DIR\"] = os.path.dirname('/Users/loureiro/Work/Github/firecrown/')"
   ]
  },
  {
   "cell_type": "code",
   "execution_count": 38,
   "metadata": {},
   "outputs": [],
   "source": [
    "# importing the example likelihood module from the firecrown examples\n",
    "sys.path.append(os.path.join(os.environ[\"FIRECROWN_DIR\"], \"examples\", \"des_y1_3x2pt\"))\n",
    "# trying to import the example likelihood\n",
    "import des_y1_3x2pt_PT "
   ]
  },
  {
   "cell_type": "code",
   "execution_count": 39,
   "metadata": {},
   "outputs": [],
   "source": [
    "sys.path.append('../src/blinding/')\n",
    "from smokescreen import Smokescreen"
   ]
  },
  {
   "cell_type": "code",
   "execution_count": 66,
   "metadata": {},
   "outputs": [],
   "source": [
    "# ccl cosmology\n",
    "cosmo = ccl.Cosmology(Omega_c=0.27, \n",
    "                      Omega_b=0.045, \n",
    "                      h=0.67, \n",
    "                      sigma8=0.8, \n",
    "                      n_s=0.96, \n",
    "                      transfer_function='bbks')\n",
    "sacc_data = sacc.Sacc.load_fits('/Users/loureiro/Work/Github/firecrown/examples/des_y1_3x2pt/des_y1_3x2pt_sacc_data.fits')\n",
    "\n",
    "# FIXME: not sure there's another way of setting this from the likelihood\n",
    "syst_dict = {\n",
    "            \"ia_a_1\": 1.0,\n",
    "            \"ia_a_2\": 0.5,\n",
    "            \"ia_a_d\": 0.5,\n",
    "            \"lens0_bias\": 2.0,\n",
    "            \"lens0_b_2\": 1.0,\n",
    "            \"lens0_b_s\": 1.0,\n",
    "            \"lens0_mag_bias\": 1.0,\n",
    "            \"src0_delta_z\": 0.000,\n",
    "            \"lens0_delta_z\": 0.000,}"
   ]
  },
  {
   "cell_type": "code",
   "execution_count": 71,
   "metadata": {},
   "outputs": [
    {
     "name": "stdout",
     "output_type": "stream",
     "text": [
      "Using parameters: ['src0_delta_z', 'lens0_bias', 'lens0_delta_z', 'ia_a_1', 'ia_a_2', 'ia_a_d', 'lens0_b_s', 'lens0_b_2', 'lens0_mag_bias']\n",
      "[DEBUG] Shifts: {'Omega_c': 0.35}\n",
      "[DEBUG] Blinded Cosmology: <pyccl.cosmology.Cosmology>\n",
      "\tNeff    = 3.044\n",
      "\tOmega_b = 0.045\n",
      "\tOmega_c = 0.35\n",
      "\th       = 0.67\n",
      "\tn_s     = 0.96\n",
      "\tsigma8  = 0.8\n",
      "\textra_parameters =\n",
      "\tHASH_ACCURACY_PARAMS = 0xd7a5be1fbac8830\n"
     ]
    }
   ],
   "source": [
    "smkscr = Smokescreen(cosmo, syst_dict, sacc_data, des_y1_3x2pt_PT, {'Omega_c': 0.35}, **{'debug': True})"
   ]
  },
  {
   "cell_type": "code",
   "execution_count": 72,
   "metadata": {},
   "outputs": [
    {
     "data": {
      "text/plain": [
       "<pyccl.cosmology.Cosmology>\n",
       "\tNeff    = 3.044\n",
       "\tOmega_b = 0.045\n",
       "\tOmega_c = 0.35\n",
       "\th       = 0.67\n",
       "\tn_s     = 0.96\n",
       "\tsigma8  = 0.8\n",
       "\textra_parameters =\n",
       "\tHASH_ACCURACY_PARAMS = 0xd7a5be1fbac8830"
      ]
     },
     "execution_count": 72,
     "metadata": {},
     "output_type": "execute_result"
    }
   ],
   "source": [
    "smkscr._create_blinded_cosmo()"
   ]
  },
  {
   "cell_type": "code",
   "execution_count": null,
   "metadata": {},
   "outputs": [],
   "source": []
  },
  {
   "cell_type": "markdown",
   "metadata": {},
   "source": []
  }
 ],
 "metadata": {
  "kernelspec": {
   "display_name": "desc_blinding",
   "language": "python",
   "name": "python3"
  },
  "language_info": {
   "codemirror_mode": {
    "name": "ipython",
    "version": 3
   },
   "file_extension": ".py",
   "mimetype": "text/x-python",
   "name": "python",
   "nbconvert_exporter": "python",
   "pygments_lexer": "ipython3",
   "version": "3.11.6"
  }
 },
 "nbformat": 4,
 "nbformat_minor": 2
}
